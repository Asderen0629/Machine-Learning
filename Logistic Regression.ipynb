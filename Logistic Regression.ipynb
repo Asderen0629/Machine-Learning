{
 "cells": [
  {
   "cell_type": "code",
   "execution_count": 2,
   "id": "b9b30438",
   "metadata": {},
   "outputs": [],
   "source": [
    "from sklearn.model_selection import train_test_split\n",
    "from sklearn.preprocessing import StandardScaler , LabelEncoder\n",
    "from sklearn.datasets import load_iris\n",
    "import pandas as pd\n",
    "import numpy as np\n",
    "import matplotlib.pyplot as plt\n",
    "from matplotlib.colors import ListedColormap\n",
    "from sklearn.linear_model import LogisticRegression\n",
    "from sklearn.metrics import confusion_matrix\n",
    "import sympy\n",
    "from IPython.display import display\n",
    "from statsmodels.stats.outliers_influence import variance_inflation_factor"
   ]
  },
  {
   "cell_type": "code",
   "execution_count": 3,
   "id": "b2f650a7",
   "metadata": {},
   "outputs": [
    {
     "name": "stdout",
     "output_type": "stream",
     "text": [
      "   sepal length (cm)  sepal width (cm)  petal length (cm)  petal width (cm)  \\\n",
      "0                5.1               3.5                1.4               0.2   \n",
      "1                4.9               3.0                1.4               0.2   \n",
      "2                4.7               3.2                1.3               0.2   \n",
      "3                4.6               3.1                1.5               0.2   \n",
      "4                5.0               3.6                1.4               0.2   \n",
      "5                5.4               3.9                1.7               0.4   \n",
      "6                4.6               3.4                1.4               0.3   \n",
      "7                5.0               3.4                1.5               0.2   \n",
      "8                4.4               2.9                1.4               0.2   \n",
      "9                4.9               3.1                1.5               0.1   \n",
      "\n",
      "   target  \n",
      "0       0  \n",
      "1       0  \n",
      "2       0  \n",
      "3       0  \n",
      "4       0  \n",
      "5       0  \n",
      "6       0  \n",
      "7       0  \n",
      "8       0  \n",
      "9       0  \n"
     ]
    }
   ],
   "source": [
    "# Load data\n",
    "iris = load_iris()\n",
    "x = pd.DataFrame(iris['data'],columns=iris['feature_names'])\n",
    "y = pd.DataFrame(iris['target'],columns=['target'])\n",
    "iris = pd.concat([x,y],axis = 1)\n",
    "print (iris.head(10))"
   ]
  },
  {
   "cell_type": "code",
   "execution_count": 91,
   "id": "5044ac84",
   "metadata": {},
   "outputs": [],
   "source": [
    "# markers & colors para\n",
    "markers = ['o','^','x']\n",
    "colors = ['red','green','blue']\n",
    "cmap = ListedColormap(colors[:len(np.unique(y))])\n"
   ]
  },
  {
   "cell_type": "code",
   "execution_count": 96,
   "id": "444476e3",
   "metadata": {
    "scrolled": false
   },
   "outputs": [
    {
     "name": "stderr",
     "output_type": "stream",
     "text": [
      "*c* argument looks like a single numeric RGB or RGBA sequence, which should be avoided as value-mapping will have precedence in case its length matches with *x* & *y*.  Please use the *color* keyword-argument or provide a 2D array with a single row if you intend to specify the same RGB or RGBA value for all points.\n",
      "*c* argument looks like a single numeric RGB or RGBA sequence, which should be avoided as value-mapping will have precedence in case its length matches with *x* & *y*.  Please use the *color* keyword-argument or provide a 2D array with a single row if you intend to specify the same RGB or RGBA value for all points.\n",
      "*c* argument looks like a single numeric RGB or RGBA sequence, which should be avoided as value-mapping will have precedence in case its length matches with *x* & *y*.  Please use the *color* keyword-argument or provide a 2D array with a single row if you intend to specify the same RGB or RGBA value for all points.\n"
     ]
    },
    {
     "data": {
      "image/png": "[encoded data removed]",
      "text/plain": [
       "<Figure size 432x288 with 1 Axes>"
      ]
     },
     "metadata": {
      "needs_background": "light"
     },
     "output_type": "display_data"
    },
    {
     "data": {
      "text/plain": [
       "<Figure size 1440x1440 with 0 Axes>"
      ]
     },
     "metadata": {},
     "output_type": "display_data"
    }
   ],
   "source": [
    "# plot scatter \n",
    "y = iris['target'].values\n",
    "plt.rcParams['font.sans-serif'] = ['Microsoft JhengHei']\n",
    "plt.rcParams['font.size'] =14\n",
    "for i , j in enumerate(np.unique(y)) :\n",
    "    p = iris[y == j] \n",
    "    plt.scatter( x = p['sepal length (cm)'] , y = p['petal width (cm)'],c = cmap(i),marker=markers[i],label = j )\n",
    "plt.xlabel('萼片長度')\n",
    "plt.ylabel('花瓣長度')\n",
    "plt.legend(loc = 'upper right')\n",
    "plt.figure(figsize=(20,20))\n",
    "plt.show()"
   ]
  },
  {
   "cell_type": "code",
   "execution_count": 5,
   "id": "a21dedf9",
   "metadata": {},
   "outputs": [
    {
     "name": "stdout",
     "output_type": "stream",
     "text": [
      "(70, 2)\n",
      "(30, 2)\n"
     ]
    }
   ],
   "source": [
    "#make Xs normalized by standard scalar\n",
    "iris = iris[iris['target'].isin([1,2])]\n",
    "\n",
    "train_x,test_x,train_y,test_y = train_test_split(iris[['sepal length (cm)','petal length (cm)']],\\\n",
    "                                                 iris['target'],test_size= 0.3,random_state=42)\n",
    "sc = StandardScaler()\n",
    "train_x_std = sc.fit_transform(train_x)\n",
    "test_x_std = sc.fit_transform(test_x)\n",
    "print(train_x_std.shape)\n",
    "print(test_x_std.shape)"
   ]
  },
  {
   "cell_type": "code",
   "execution_count": 6,
   "id": "f66e9351",
   "metadata": {},
   "outputs": [
    {
     "data": {
      "text/plain": [
       "LogisticRegression()"
      ]
     },
     "execution_count": 6,
     "metadata": {},
     "output_type": "execute_result"
    }
   ],
   "source": [
    "# set model and train , default penalty = l2\n",
    "model = LogisticRegression()#penalty= 'l1',solver='liblinear')\n",
    "model.fit(train_x_std,train_y,)"
   ]
  },
  {
   "cell_type": "code",
   "execution_count": null,
   "id": "6b24a399",
   "metadata": {
    "scrolled": true
   },
   "outputs": [],
   "source": []
  },
  {
   "cell_type": "code",
   "execution_count": 7,
   "id": "9f162599",
   "metadata": {},
   "outputs": [
    {
     "name": "stdout",
     "output_type": "stream",
     "text": [
      "係數 : [[-0.43972306  3.31482585]]\n",
      "截距 :  [0.23006753]\n"
     ]
    },
    {
     "data": {
      "text/latex": [
       "$\\displaystyle \\frac{1}{1 + e^{- z}}$"
      ],
      "text/plain": [
       "1/(1 + exp(-z))"
      ]
     },
     "metadata": {},
     "output_type": "display_data"
    },
    {
     "name": "stdout",
     "output_type": "stream",
     "text": [
      "其中z = 0.2301 + -0.4397x_1 + 3.3148x_2\n"
     ]
    }
   ],
   "source": [
    "print('係數 :',model.coef_)\n",
    "print('截距 : ',model.intercept_)\n",
    "ZZ = sympy.Symbol('z')\n",
    "y = (1/(1+sympy.exp(-ZZ)))\n",
    "display(y)\n",
    "print('其中z = %.4f + %.4fx_1 + %.4fx_2'%(model.intercept_,model.coef_[0][0],model.coef_[0][1]))"
   ]
  },
  {
   "cell_type": "code",
   "execution_count": 8,
   "id": "80147738",
   "metadata": {},
   "outputs": [
    {
     "name": "stdout",
     "output_type": "stream",
     "text": [
      "----驗證-----\n",
      "[0.9597945 0.0402055]\n",
      "0.04021535667139673\n",
      "[1]\n",
      "----驗證-----\n",
      "[0.00162601 0.99837399]\n",
      "0.9983739919733222\n",
      "[2]\n"
     ]
    }
   ],
   "source": [
    "print('----驗證-----')\n",
    "print(model.predict_proba([[10,0.3]])[0])\n",
    "print(1/(1+np.exp(-(0.2301+-0.4397*10+3.3148*0.3))))\n",
    "print(model.predict([[10,0.3]]))\n",
    "print('----驗證-----')\n",
    "print(model.predict_proba([[1,2]])[0])\n",
    "print(1/(1+np.exp(-(0.2301+-0.4397*1+3.3148*2))))\n",
    "print(model.predict([[1,2]]))"
   ]
  },
  {
   "cell_type": "code",
   "execution_count": null,
   "id": "16804737",
   "metadata": {},
   "outputs": [],
   "source": []
  },
  {
   "cell_type": "code",
   "execution_count": null,
   "id": "5f85488a",
   "metadata": {},
   "outputs": [],
   "source": [
    "plt.contourf?"
   ]
  },
  {
   "cell_type": "code",
   "execution_count": 9,
   "id": "a581b7f6",
   "metadata": {},
   "outputs": [
    {
     "name": "stdout",
     "output_type": "stream",
     "text": [
      "[2 2 2 1 1 1 2 2 1 1 1 1 2 2 2 1 2 2 1 1 2 2 1 1 2 1 1 2 1 2]\n",
      "[2 2 2 1 1 1 1 2 1 1 1 1 2 1 2 1 2 2 1 1 2 2 1 1 2 1 1 2 1 2]\n",
      "             X             X                                \n",
      "[[15  2]\n",
      " [ 0 13]]\n"
     ]
    }
   ],
   "source": [
    "print(model.predict(test_x_std))\n",
    "print(test_y.values)\n",
    "[print(' X',end = '') if i != j else print('  ',end = '') for i,j in zip(model.predict(test_x_std),test_y.values)]# :]\n",
    "cm = confusion_matrix(test_y,model.predict(test_x_std))\n",
    "print()\n",
    "print(cm)\n"
   ]
  },
  {
   "cell_type": "code",
   "execution_count": 11,
   "id": "09a8bb35",
   "metadata": {},
   "outputs": [
    {
     "name": "stderr",
     "output_type": "stream",
     "text": [
      "*c* argument looks like a single numeric RGB or RGBA sequence, which should be avoided as value-mapping will have precedence in case its length matches with *x* & *y*.  Please use the *color* keyword-argument or provide a 2D array with a single row if you intend to specify the same RGB or RGBA value for all points.\n",
      "*c* argument looks like a single numeric RGB or RGBA sequence, which should be avoided as value-mapping will have precedence in case its length matches with *x* & *y*.  Please use the *color* keyword-argument or provide a 2D array with a single row if you intend to specify the same RGB or RGBA value for all points.\n",
      "C:\\Users\\2022040601\\Anaconda3\\lib\\site-packages\\matplotlib\\backends\\backend_agg.py:240: RuntimeWarning: Glyph 8722 missing from current font.\n",
      "  font.set_text(s, 0.0, flags=flags)\n",
      "C:\\Users\\2022040601\\Anaconda3\\lib\\site-packages\\matplotlib\\backends\\backend_agg.py:203: RuntimeWarning: Glyph 8722 missing from current font.\n",
      "  font.set_text(s, 0, flags=flags)\n"
     ]
    },
    {
     "data": {
      "image/png": "[encoded data removed]",
      "text/plain": [
       "<Figure size 432x288 with 1 Axes>"
      ]
     },
     "metadata": {
      "needs_background": "light"
     },
     "output_type": "display_data"
    }
   ],
   "source": [
    "plt.rcParams['font.sans-serif'] = ['Microsoft JhengHei']\n",
    "x = test_x_std\n",
    "y = test_y.values\n",
    "x0min,x0max = x[:,0].min() , x[:,0].max()\n",
    "x1min,x1max = x[:,1].min() , x[:,1].max()\n",
    "a,b = np.meshgrid(np.arange(x0min,x0max,0.03),np.arange(x1min,x1max,0.03))\n",
    "z = model.predict(np.array([a.ravel(),b.ravel()]).T)\n",
    "z = z.reshape(a.shape)\n",
    "plt.contourf(a,b,z,alpha = 0.3,cmap = cmap)\n",
    "plt.xlim(a.min(),a.max())\n",
    "plt.ylim(b.min(),b.max())\n",
    "for i ,j in enumerate(np.unique(y)) :\n",
    "    p = x[y == j]\n",
    "    plt.scatter(x = p[:,0], y = p[:,1],c = cmap(i),marker= markers[i],label = j)\n",
    "plt.xlabel('萼片長度')\n",
    "plt.ylabel('花瓣長度')\n",
    "plt.legend(loc = 'upper left')\n",
    "plt.show()"
   ]
  },
  {
   "cell_type": "code",
   "execution_count": 12,
   "id": "7cd06e0a",
   "metadata": {},
   "outputs": [],
   "source": [
    "import seaborn as sns"
   ]
  },
  {
   "cell_type": "code",
   "execution_count": 13,
   "id": "f25e617c",
   "metadata": {},
   "outputs": [],
   "source": [
    "df = pd.read_csv('diabetes.csv')\n",
    "df = df.applymap(lambda x : str(x).replace(',','.'))"
   ]
  },
  {
   "cell_type": "code",
   "execution_count": 14,
   "id": "3a1f4e3e",
   "metadata": {},
   "outputs": [],
   "source": [
    "df['diabetes'] =df['diabetes'].apply(lambda x : 1 if  x == 'Diabetes' else 0)"
   ]
  },
  {
   "cell_type": "code",
   "execution_count": 15,
   "id": "084822e7",
   "metadata": {},
   "outputs": [
    {
     "data": {
      "image/png": "[encoded data removed]",
      "text/plain": [
       "<Figure size 432x288 with 1 Axes>"
      ]
     },
     "metadata": {
      "needs_background": "light"
     },
     "output_type": "display_data"
    },
    {
     "data": {
      "image/png": "[encoded data removed]",
      "text/plain": [
       "<Figure size 432x288 with 1 Axes>"
      ]
     },
     "metadata": {
      "needs_background": "light"
     },
     "output_type": "display_data"
    }
   ],
   "source": [
    "sns.countplot(x = 'diabetes',hue = 'gender',data = df)\n",
    "plt.show()\n",
    "sns.countplot(x = 'diabetes',hue = 'waist',data = df)\n",
    "plt.show()"
   ]
  },
  {
   "cell_type": "code",
   "execution_count": 16,
   "id": "1a11013a",
   "metadata": {},
   "outputs": [
    {
     "name": "stdout",
     "output_type": "stream",
     "text": [
      "(312, 15)\n",
      "(78, 15)\n"
     ]
    },
    {
     "name": "stderr",
     "output_type": "stream",
     "text": [
      "C:\\Users\\202204~1\\AppData\\Local\\Temp/ipykernel_5912/1978121381.py:4: SettingWithCopyWarning: \n",
      "A value is trying to be set on a copy of a slice from a DataFrame.\n",
      "Try using .loc[row_indexer,col_indexer] = value instead\n",
      "\n",
      "See the caveats in the documentation: https://pandas.pydata.org/pandas-docs/stable/user_guide/indexing.html#returning-a-view-versus-a-copy\n",
      "  x['gender'] = LE.fit_transform(x['gender'])\n"
     ]
    }
   ],
   "source": [
    "x = df.loc[:,~df.columns.isin(['diabetes'])]\n",
    "y = df.loc[:,df.columns.isin(['diabetes'])]\n",
    "LE = LabelEncoder()\n",
    "x['gender'] = LE.fit_transform(x['gender'])\n",
    "train_x , test_x , train_y , test_y = train_test_split(x,y,test_size=0.2,random_state=42)\n",
    "print(train_x.shape)\n",
    "print(test_x.shape)"
   ]
  },
  {
   "cell_type": "code",
   "execution_count": 17,
   "id": "75c8d671",
   "metadata": {},
   "outputs": [
    {
     "name": "stderr",
     "output_type": "stream",
     "text": [
      "C:\\Users\\2022040601\\Anaconda3\\lib\\site-packages\\sklearn\\utils\\validation.py:63: DataConversionWarning: A column-vector y was passed when a 1d array was expected. Please change the shape of y to (n_samples, ), for example using ravel().\n",
      "  return f(*args, **kwargs)\n",
      "C:\\Users\\2022040601\\Anaconda3\\lib\\site-packages\\sklearn\\linear_model\\_logistic.py:763: ConvergenceWarning: lbfgs failed to converge (status=1):\n",
      "STOP: TOTAL NO. of ITERATIONS REACHED LIMIT.\n",
      "\n",
      "Increase the number of iterations (max_iter) or scale the data as shown in:\n",
      "    https://scikit-learn.org/stable/modules/preprocessing.html\n",
      "Please also refer to the documentation for alternative solver options:\n",
      "    https://scikit-learn.org/stable/modules/linear_model.html#logistic-regression\n",
      "  n_iter_i = _check_optimize_result(\n"
     ]
    },
    {
     "data": {
      "text/plain": [
       "LogisticRegression()"
      ]
     },
     "execution_count": 17,
     "metadata": {},
     "output_type": "execute_result"
    }
   ],
   "source": [
    "model2 = LogisticRegression()\n",
    "model2.fit(train_x,train_y)"
   ]
  },
  {
   "cell_type": "code",
   "execution_count": 18,
   "id": "4a0e2c39",
   "metadata": {},
   "outputs": [
    {
     "name": "stdout",
     "output_type": "stream",
     "text": [
      "[ 0.0206345   0.01126769  0.03264136 -0.01630018 -0.02160028 -0.09373353\n",
      "  0.00485166 -0.15051172  0.02224476 -0.09122082  0.00856073  0.00213376\n",
      "  0.00188722 -0.00385269 -0.00271019]\n",
      "[-0.0033853]\n"
     ]
    }
   ],
   "source": [
    "print(model2.coef_[0])\n",
    "print(model2.intercept_)"
   ]
  },
  {
   "cell_type": "code",
   "execution_count": 19,
   "id": "bf8b78e2",
   "metadata": {},
   "outputs": [
    {
     "data": {
      "text/plain": [
       "array([[58,  3],\n",
       "       [ 4, 13]], dtype=int64)"
      ]
     },
     "execution_count": 19,
     "metadata": {},
     "output_type": "execute_result"
    }
   ],
   "source": [
    "cm = confusion_matrix(model2.predict(test_x),test_y)\n",
    "cm"
   ]
  },
  {
   "cell_type": "code",
   "execution_count": 20,
   "id": "8ebd2ee2",
   "metadata": {},
   "outputs": [
    {
     "name": "stdout",
     "output_type": "stream",
     "text": [
      "satisfaction_level       0\n",
      "last_evaluation          0\n",
      "number_project           0\n",
      "average_montly_hours     0\n",
      "time_spend_company       0\n",
      "Work_accident            0\n",
      "left                     0\n",
      "promotion_last_5years    0\n",
      "Department               0\n",
      "salary                   0\n",
      "dtype: int64\n",
      "       satisfaction_level  last_evaluation  number_project  \\\n",
      "count        14999.000000     14999.000000    14999.000000   \n",
      "mean             0.612834         0.716102        3.803054   \n",
      "std              0.248631         0.171169        1.232592   \n",
      "min              0.090000         0.360000        2.000000   \n",
      "25%              0.440000         0.560000        3.000000   \n",
      "50%              0.640000         0.720000        4.000000   \n",
      "75%              0.820000         0.870000        5.000000   \n",
      "max              1.000000         1.000000        7.000000   \n",
      "\n",
      "       average_montly_hours  time_spend_company  Work_accident          left  \\\n",
      "count          14999.000000        14999.000000   14999.000000  14999.000000   \n",
      "mean             201.050337            3.498233       0.144610      0.238083   \n",
      "std               49.943099            1.460136       0.351719      0.425924   \n",
      "min               96.000000            2.000000       0.000000      0.000000   \n",
      "25%              156.000000            3.000000       0.000000      0.000000   \n",
      "50%              200.000000            3.000000       0.000000      0.000000   \n",
      "75%              245.000000            4.000000       0.000000      0.000000   \n",
      "max              310.000000           10.000000       1.000000      1.000000   \n",
      "\n",
      "       promotion_last_5years  \n",
      "count           14999.000000  \n",
      "mean                0.021268  \n",
      "std                 0.144281  \n",
      "min                 0.000000  \n",
      "25%                 0.000000  \n",
      "50%                 0.000000  \n",
      "75%                 0.000000  \n",
      "max                 1.000000  \n"
     ]
    },
    {
     "data": {
      "text/html": [
       "<div>\n",
       "<style scoped>\n",
       "    .dataframe tbody tr th:only-of-type {\n",
       "        vertical-align: middle;\n",
       "    }\n",
       "\n",
       "    .dataframe tbody tr th {\n",
       "        vertical-align: top;\n",
       "    }\n",
       "\n",
       "    .dataframe thead th {\n",
       "        text-align: right;\n",
       "    }\n",
       "</style>\n",
       "<table border=\"1\" class=\"dataframe\">\n",
       "  <thead>\n",
       "    <tr style=\"text-align: right;\">\n",
       "      <th></th>\n",
       "      <th>satisfaction_level</th>\n",
       "      <th>last_evaluation</th>\n",
       "      <th>number_project</th>\n",
       "      <th>average_montly_hours</th>\n",
       "      <th>time_spend_company</th>\n",
       "      <th>Work_accident</th>\n",
       "      <th>left</th>\n",
       "      <th>promotion_last_5years</th>\n",
       "      <th>Department</th>\n",
       "      <th>salary</th>\n",
       "    </tr>\n",
       "  </thead>\n",
       "  <tbody>\n",
       "    <tr>\n",
       "      <th>0</th>\n",
       "      <td>0.38</td>\n",
       "      <td>0.53</td>\n",
       "      <td>2</td>\n",
       "      <td>157</td>\n",
       "      <td>3</td>\n",
       "      <td>0</td>\n",
       "      <td>1</td>\n",
       "      <td>0</td>\n",
       "      <td>sales</td>\n",
       "      <td>low</td>\n",
       "    </tr>\n",
       "    <tr>\n",
       "      <th>1</th>\n",
       "      <td>0.80</td>\n",
       "      <td>0.86</td>\n",
       "      <td>5</td>\n",
       "      <td>262</td>\n",
       "      <td>6</td>\n",
       "      <td>0</td>\n",
       "      <td>1</td>\n",
       "      <td>0</td>\n",
       "      <td>sales</td>\n",
       "      <td>medium</td>\n",
       "    </tr>\n",
       "    <tr>\n",
       "      <th>2</th>\n",
       "      <td>0.11</td>\n",
       "      <td>0.88</td>\n",
       "      <td>7</td>\n",
       "      <td>272</td>\n",
       "      <td>4</td>\n",
       "      <td>0</td>\n",
       "      <td>1</td>\n",
       "      <td>0</td>\n",
       "      <td>sales</td>\n",
       "      <td>medium</td>\n",
       "    </tr>\n",
       "    <tr>\n",
       "      <th>3</th>\n",
       "      <td>0.72</td>\n",
       "      <td>0.87</td>\n",
       "      <td>5</td>\n",
       "      <td>223</td>\n",
       "      <td>5</td>\n",
       "      <td>0</td>\n",
       "      <td>1</td>\n",
       "      <td>0</td>\n",
       "      <td>sales</td>\n",
       "      <td>low</td>\n",
       "    </tr>\n",
       "    <tr>\n",
       "      <th>4</th>\n",
       "      <td>0.37</td>\n",
       "      <td>0.52</td>\n",
       "      <td>2</td>\n",
       "      <td>159</td>\n",
       "      <td>3</td>\n",
       "      <td>0</td>\n",
       "      <td>1</td>\n",
       "      <td>0</td>\n",
       "      <td>sales</td>\n",
       "      <td>low</td>\n",
       "    </tr>\n",
       "    <tr>\n",
       "      <th>...</th>\n",
       "      <td>...</td>\n",
       "      <td>...</td>\n",
       "      <td>...</td>\n",
       "      <td>...</td>\n",
       "      <td>...</td>\n",
       "      <td>...</td>\n",
       "      <td>...</td>\n",
       "      <td>...</td>\n",
       "      <td>...</td>\n",
       "      <td>...</td>\n",
       "    </tr>\n",
       "    <tr>\n",
       "      <th>14994</th>\n",
       "      <td>0.40</td>\n",
       "      <td>0.57</td>\n",
       "      <td>2</td>\n",
       "      <td>151</td>\n",
       "      <td>3</td>\n",
       "      <td>0</td>\n",
       "      <td>1</td>\n",
       "      <td>0</td>\n",
       "      <td>support</td>\n",
       "      <td>low</td>\n",
       "    </tr>\n",
       "    <tr>\n",
       "      <th>14995</th>\n",
       "      <td>0.37</td>\n",
       "      <td>0.48</td>\n",
       "      <td>2</td>\n",
       "      <td>160</td>\n",
       "      <td>3</td>\n",
       "      <td>0</td>\n",
       "      <td>1</td>\n",
       "      <td>0</td>\n",
       "      <td>support</td>\n",
       "      <td>low</td>\n",
       "    </tr>\n",
       "    <tr>\n",
       "      <th>14996</th>\n",
       "      <td>0.37</td>\n",
       "      <td>0.53</td>\n",
       "      <td>2</td>\n",
       "      <td>143</td>\n",
       "      <td>3</td>\n",
       "      <td>0</td>\n",
       "      <td>1</td>\n",
       "      <td>0</td>\n",
       "      <td>support</td>\n",
       "      <td>low</td>\n",
       "    </tr>\n",
       "    <tr>\n",
       "      <th>14997</th>\n",
       "      <td>0.11</td>\n",
       "      <td>0.96</td>\n",
       "      <td>6</td>\n",
       "      <td>280</td>\n",
       "      <td>4</td>\n",
       "      <td>0</td>\n",
       "      <td>1</td>\n",
       "      <td>0</td>\n",
       "      <td>support</td>\n",
       "      <td>low</td>\n",
       "    </tr>\n",
       "    <tr>\n",
       "      <th>14998</th>\n",
       "      <td>0.37</td>\n",
       "      <td>0.52</td>\n",
       "      <td>2</td>\n",
       "      <td>158</td>\n",
       "      <td>3</td>\n",
       "      <td>0</td>\n",
       "      <td>1</td>\n",
       "      <td>0</td>\n",
       "      <td>support</td>\n",
       "      <td>low</td>\n",
       "    </tr>\n",
       "  </tbody>\n",
       "</table>\n",
       "<p>14999 rows × 10 columns</p>\n",
       "</div>"
      ],
      "text/plain": [
       "       satisfaction_level  last_evaluation  number_project  \\\n",
       "0                    0.38             0.53               2   \n",
       "1                    0.80             0.86               5   \n",
       "2                    0.11             0.88               7   \n",
       "3                    0.72             0.87               5   \n",
       "4                    0.37             0.52               2   \n",
       "...                   ...              ...             ...   \n",
       "14994                0.40             0.57               2   \n",
       "14995                0.37             0.48               2   \n",
       "14996                0.37             0.53               2   \n",
       "14997                0.11             0.96               6   \n",
       "14998                0.37             0.52               2   \n",
       "\n",
       "       average_montly_hours  time_spend_company  Work_accident  left  \\\n",
       "0                       157                   3              0     1   \n",
       "1                       262                   6              0     1   \n",
       "2                       272                   4              0     1   \n",
       "3                       223                   5              0     1   \n",
       "4                       159                   3              0     1   \n",
       "...                     ...                 ...            ...   ...   \n",
       "14994                   151                   3              0     1   \n",
       "14995                   160                   3              0     1   \n",
       "14996                   143                   3              0     1   \n",
       "14997                   280                   4              0     1   \n",
       "14998                   158                   3              0     1   \n",
       "\n",
       "       promotion_last_5years Department  salary  \n",
       "0                          0      sales     low  \n",
       "1                          0      sales  medium  \n",
       "2                          0      sales  medium  \n",
       "3                          0      sales     low  \n",
       "4                          0      sales     low  \n",
       "...                      ...        ...     ...  \n",
       "14994                      0    support     low  \n",
       "14995                      0    support     low  \n",
       "14996                      0    support     low  \n",
       "14997                      0    support     low  \n",
       "14998                      0    support     low  \n",
       "\n",
       "[14999 rows x 10 columns]"
      ]
     },
     "execution_count": 20,
     "metadata": {},
     "output_type": "execute_result"
    }
   ],
   "source": [
    "df = pd.read_csv('HR_comma_sep.csv')\n",
    "print(df.isna().sum())\n",
    "print(df.describe())\n",
    "df"
   ]
  },
  {
   "cell_type": "code",
   "execution_count": 21,
   "id": "175b49dc",
   "metadata": {},
   "outputs": [
    {
     "data": {
      "image/png": "[encoded data removed]",
      "text/plain": [
       "<Figure size 432x288 with 1 Axes>"
      ]
     },
     "metadata": {
      "needs_background": "light"
     },
     "output_type": "display_data"
    },
    {
     "data": {
      "image/png": "[encoded data removed]",
      "text/plain": [
       "<Figure size 432x288 with 1 Axes>"
      ]
     },
     "metadata": {
      "needs_background": "light"
     },
     "output_type": "display_data"
    }
   ],
   "source": [
    "sns.countplot(x = 'average_montly_hours',hue = 'left',data = df)\n",
    "plt.show()\n",
    "sns.countplot(x = 'salary',hue = 'left',data = df)\n",
    "plt.show()"
   ]
  },
  {
   "cell_type": "code",
   "execution_count": 22,
   "id": "accb55d5",
   "metadata": {},
   "outputs": [],
   "source": [
    "x = df.loc[:,~df.columns.isin(['left'])]\n",
    "y = df.loc[:,df.columns.isin(['left'])]"
   ]
  },
  {
   "cell_type": "code",
   "execution_count": 71,
   "id": "1ba890ca",
   "metadata": {},
   "outputs": [
    {
     "data": {
      "text/html": [
       "<style type=\"text/css\">\n",
       "#T_b521f_row0_col0, #T_b521f_row1_col1, #T_b521f_row2_col2, #T_b521f_row3_col3, #T_b521f_row4_col4, #T_b521f_row5_col5, #T_b521f_row6_col6, #T_b521f_row7_col7, #T_b521f_row8_col8 {\n",
       "  color: red;\n",
       "}\n",
       "#T_b521f_row0_col1, #T_b521f_row0_col2, #T_b521f_row0_col3, #T_b521f_row0_col4, #T_b521f_row0_col5, #T_b521f_row0_col6, #T_b521f_row0_col7, #T_b521f_row0_col8, #T_b521f_row1_col0, #T_b521f_row1_col2, #T_b521f_row1_col3, #T_b521f_row1_col4, #T_b521f_row1_col5, #T_b521f_row1_col6, #T_b521f_row1_col7, #T_b521f_row1_col8, #T_b521f_row2_col0, #T_b521f_row2_col1, #T_b521f_row2_col3, #T_b521f_row2_col4, #T_b521f_row2_col5, #T_b521f_row2_col6, #T_b521f_row2_col7, #T_b521f_row2_col8, #T_b521f_row3_col0, #T_b521f_row3_col1, #T_b521f_row3_col2, #T_b521f_row3_col4, #T_b521f_row3_col5, #T_b521f_row3_col6, #T_b521f_row3_col7, #T_b521f_row3_col8, #T_b521f_row4_col0, #T_b521f_row4_col1, #T_b521f_row4_col2, #T_b521f_row4_col3, #T_b521f_row4_col5, #T_b521f_row4_col6, #T_b521f_row4_col7, #T_b521f_row4_col8, #T_b521f_row5_col0, #T_b521f_row5_col1, #T_b521f_row5_col2, #T_b521f_row5_col3, #T_b521f_row5_col4, #T_b521f_row5_col6, #T_b521f_row5_col7, #T_b521f_row5_col8, #T_b521f_row6_col0, #T_b521f_row6_col1, #T_b521f_row6_col2, #T_b521f_row6_col3, #T_b521f_row6_col4, #T_b521f_row6_col5, #T_b521f_row6_col7, #T_b521f_row6_col8, #T_b521f_row7_col0, #T_b521f_row7_col1, #T_b521f_row7_col2, #T_b521f_row7_col3, #T_b521f_row7_col4, #T_b521f_row7_col5, #T_b521f_row7_col6, #T_b521f_row7_col8, #T_b521f_row8_col0, #T_b521f_row8_col1, #T_b521f_row8_col2, #T_b521f_row8_col3, #T_b521f_row8_col4, #T_b521f_row8_col5, #T_b521f_row8_col6, #T_b521f_row8_col7 {\n",
       "  color: white;\n",
       "}\n",
       "</style>\n",
       "<table id=\"T_b521f\">\n",
       "  <thead>\n",
       "    <tr>\n",
       "      <th class=\"blank level0\" >&nbsp;</th>\n",
       "      <th id=\"T_b521f_level0_col0\" class=\"col_heading level0 col0\" >satisfaction_level</th>\n",
       "      <th id=\"T_b521f_level0_col1\" class=\"col_heading level0 col1\" >last_evaluation</th>\n",
       "      <th id=\"T_b521f_level0_col2\" class=\"col_heading level0 col2\" >number_project</th>\n",
       "      <th id=\"T_b521f_level0_col3\" class=\"col_heading level0 col3\" >average_montly_hours</th>\n",
       "      <th id=\"T_b521f_level0_col4\" class=\"col_heading level0 col4\" >time_spend_company</th>\n",
       "      <th id=\"T_b521f_level0_col5\" class=\"col_heading level0 col5\" >Work_accident</th>\n",
       "      <th id=\"T_b521f_level0_col6\" class=\"col_heading level0 col6\" >promotion_last_5years</th>\n",
       "      <th id=\"T_b521f_level0_col7\" class=\"col_heading level0 col7\" >Department</th>\n",
       "      <th id=\"T_b521f_level0_col8\" class=\"col_heading level0 col8\" >salary</th>\n",
       "    </tr>\n",
       "  </thead>\n",
       "  <tbody>\n",
       "    <tr>\n",
       "      <th id=\"T_b521f_level0_row0\" class=\"row_heading level0 row0\" >satisfaction_level</th>\n",
       "      <td id=\"T_b521f_row0_col0\" class=\"data row0 col0\" >1.000000</td>\n",
       "      <td id=\"T_b521f_row0_col1\" class=\"data row0 col1\" >0.105021</td>\n",
       "      <td id=\"T_b521f_row0_col2\" class=\"data row0 col2\" >-0.142970</td>\n",
       "      <td id=\"T_b521f_row0_col3\" class=\"data row0 col3\" >-0.020048</td>\n",
       "      <td id=\"T_b521f_row0_col4\" class=\"data row0 col4\" >-0.100866</td>\n",
       "      <td id=\"T_b521f_row0_col5\" class=\"data row0 col5\" >0.058697</td>\n",
       "      <td id=\"T_b521f_row0_col6\" class=\"data row0 col6\" >0.025605</td>\n",
       "      <td id=\"T_b521f_row0_col7\" class=\"data row0 col7\" >0.003153</td>\n",
       "      <td id=\"T_b521f_row0_col8\" class=\"data row0 col8\" >0.011754</td>\n",
       "    </tr>\n",
       "    <tr>\n",
       "      <th id=\"T_b521f_level0_row1\" class=\"row_heading level0 row1\" >last_evaluation</th>\n",
       "      <td id=\"T_b521f_row1_col0\" class=\"data row1 col0\" >0.105021</td>\n",
       "      <td id=\"T_b521f_row1_col1\" class=\"data row1 col1\" >1.000000</td>\n",
       "      <td id=\"T_b521f_row1_col2\" class=\"data row1 col2\" >0.349333</td>\n",
       "      <td id=\"T_b521f_row1_col3\" class=\"data row1 col3\" >0.339742</td>\n",
       "      <td id=\"T_b521f_row1_col4\" class=\"data row1 col4\" >0.131591</td>\n",
       "      <td id=\"T_b521f_row1_col5\" class=\"data row1 col5\" >-0.007104</td>\n",
       "      <td id=\"T_b521f_row1_col6\" class=\"data row1 col6\" >-0.008684</td>\n",
       "      <td id=\"T_b521f_row1_col7\" class=\"data row1 col7\" >0.007772</td>\n",
       "      <td id=\"T_b521f_row1_col8\" class=\"data row1 col8\" >0.013965</td>\n",
       "    </tr>\n",
       "    <tr>\n",
       "      <th id=\"T_b521f_level0_row2\" class=\"row_heading level0 row2\" >number_project</th>\n",
       "      <td id=\"T_b521f_row2_col0\" class=\"data row2 col0\" >-0.142970</td>\n",
       "      <td id=\"T_b521f_row2_col1\" class=\"data row2 col1\" >0.349333</td>\n",
       "      <td id=\"T_b521f_row2_col2\" class=\"data row2 col2\" >1.000000</td>\n",
       "      <td id=\"T_b521f_row2_col3\" class=\"data row2 col3\" >0.417211</td>\n",
       "      <td id=\"T_b521f_row2_col4\" class=\"data row2 col4\" >0.196786</td>\n",
       "      <td id=\"T_b521f_row2_col5\" class=\"data row2 col5\" >-0.004741</td>\n",
       "      <td id=\"T_b521f_row2_col6\" class=\"data row2 col6\" >-0.006064</td>\n",
       "      <td id=\"T_b521f_row2_col7\" class=\"data row2 col7\" >0.009268</td>\n",
       "      <td id=\"T_b521f_row2_col8\" class=\"data row2 col8\" >0.009672</td>\n",
       "    </tr>\n",
       "    <tr>\n",
       "      <th id=\"T_b521f_level0_row3\" class=\"row_heading level0 row3\" >average_montly_hours</th>\n",
       "      <td id=\"T_b521f_row3_col0\" class=\"data row3 col0\" >-0.020048</td>\n",
       "      <td id=\"T_b521f_row3_col1\" class=\"data row3 col1\" >0.339742</td>\n",
       "      <td id=\"T_b521f_row3_col2\" class=\"data row3 col2\" >0.417211</td>\n",
       "      <td id=\"T_b521f_row3_col3\" class=\"data row3 col3\" >1.000000</td>\n",
       "      <td id=\"T_b521f_row3_col4\" class=\"data row3 col4\" >0.127755</td>\n",
       "      <td id=\"T_b521f_row3_col5\" class=\"data row3 col5\" >-0.010143</td>\n",
       "      <td id=\"T_b521f_row3_col6\" class=\"data row3 col6\" >-0.003544</td>\n",
       "      <td id=\"T_b521f_row3_col7\" class=\"data row3 col7\" >0.003913</td>\n",
       "      <td id=\"T_b521f_row3_col8\" class=\"data row3 col8\" >0.007082</td>\n",
       "    </tr>\n",
       "    <tr>\n",
       "      <th id=\"T_b521f_level0_row4\" class=\"row_heading level0 row4\" >time_spend_company</th>\n",
       "      <td id=\"T_b521f_row4_col0\" class=\"data row4 col0\" >-0.100866</td>\n",
       "      <td id=\"T_b521f_row4_col1\" class=\"data row4 col1\" >0.131591</td>\n",
       "      <td id=\"T_b521f_row4_col2\" class=\"data row4 col2\" >0.196786</td>\n",
       "      <td id=\"T_b521f_row4_col3\" class=\"data row4 col3\" >0.127755</td>\n",
       "      <td id=\"T_b521f_row4_col4\" class=\"data row4 col4\" >1.000000</td>\n",
       "      <td id=\"T_b521f_row4_col5\" class=\"data row4 col5\" >0.002120</td>\n",
       "      <td id=\"T_b521f_row4_col6\" class=\"data row4 col6\" >0.067433</td>\n",
       "      <td id=\"T_b521f_row4_col7\" class=\"data row4 col7\" >-0.018010</td>\n",
       "      <td id=\"T_b521f_row4_col8\" class=\"data row4 col8\" >-0.003086</td>\n",
       "    </tr>\n",
       "    <tr>\n",
       "      <th id=\"T_b521f_level0_row5\" class=\"row_heading level0 row5\" >Work_accident</th>\n",
       "      <td id=\"T_b521f_row5_col0\" class=\"data row5 col0\" >0.058697</td>\n",
       "      <td id=\"T_b521f_row5_col1\" class=\"data row5 col1\" >-0.007104</td>\n",
       "      <td id=\"T_b521f_row5_col2\" class=\"data row5 col2\" >-0.004741</td>\n",
       "      <td id=\"T_b521f_row5_col3\" class=\"data row5 col3\" >-0.010143</td>\n",
       "      <td id=\"T_b521f_row5_col4\" class=\"data row5 col4\" >0.002120</td>\n",
       "      <td id=\"T_b521f_row5_col5\" class=\"data row5 col5\" >1.000000</td>\n",
       "      <td id=\"T_b521f_row5_col6\" class=\"data row5 col6\" >0.039245</td>\n",
       "      <td id=\"T_b521f_row5_col7\" class=\"data row5 col7\" >0.003425</td>\n",
       "      <td id=\"T_b521f_row5_col8\" class=\"data row5 col8\" >-0.002506</td>\n",
       "    </tr>\n",
       "    <tr>\n",
       "      <th id=\"T_b521f_level0_row6\" class=\"row_heading level0 row6\" >promotion_last_5years</th>\n",
       "      <td id=\"T_b521f_row6_col0\" class=\"data row6 col0\" >0.025605</td>\n",
       "      <td id=\"T_b521f_row6_col1\" class=\"data row6 col1\" >-0.008684</td>\n",
       "      <td id=\"T_b521f_row6_col2\" class=\"data row6 col2\" >-0.006064</td>\n",
       "      <td id=\"T_b521f_row6_col3\" class=\"data row6 col3\" >-0.003544</td>\n",
       "      <td id=\"T_b521f_row6_col4\" class=\"data row6 col4\" >0.067433</td>\n",
       "      <td id=\"T_b521f_row6_col5\" class=\"data row6 col5\" >0.039245</td>\n",
       "      <td id=\"T_b521f_row6_col6\" class=\"data row6 col6\" >1.000000</td>\n",
       "      <td id=\"T_b521f_row6_col7\" class=\"data row6 col7\" >-0.027336</td>\n",
       "      <td id=\"T_b521f_row6_col8\" class=\"data row6 col8\" >-0.001318</td>\n",
       "    </tr>\n",
       "    <tr>\n",
       "      <th id=\"T_b521f_level0_row7\" class=\"row_heading level0 row7\" >Department</th>\n",
       "      <td id=\"T_b521f_row7_col0\" class=\"data row7 col0\" >0.003153</td>\n",
       "      <td id=\"T_b521f_row7_col1\" class=\"data row7 col1\" >0.007772</td>\n",
       "      <td id=\"T_b521f_row7_col2\" class=\"data row7 col2\" >0.009268</td>\n",
       "      <td id=\"T_b521f_row7_col3\" class=\"data row7 col3\" >0.003913</td>\n",
       "      <td id=\"T_b521f_row7_col4\" class=\"data row7 col4\" >-0.018010</td>\n",
       "      <td id=\"T_b521f_row7_col5\" class=\"data row7 col5\" >0.003425</td>\n",
       "      <td id=\"T_b521f_row7_col6\" class=\"data row7 col6\" >-0.027336</td>\n",
       "      <td id=\"T_b521f_row7_col7\" class=\"data row7 col7\" >1.000000</td>\n",
       "      <td id=\"T_b521f_row7_col8\" class=\"data row7 col8\" >0.000685</td>\n",
       "    </tr>\n",
       "    <tr>\n",
       "      <th id=\"T_b521f_level0_row8\" class=\"row_heading level0 row8\" >salary</th>\n",
       "      <td id=\"T_b521f_row8_col0\" class=\"data row8 col0\" >0.011754</td>\n",
       "      <td id=\"T_b521f_row8_col1\" class=\"data row8 col1\" >0.013965</td>\n",
       "      <td id=\"T_b521f_row8_col2\" class=\"data row8 col2\" >0.009672</td>\n",
       "      <td id=\"T_b521f_row8_col3\" class=\"data row8 col3\" >0.007082</td>\n",
       "      <td id=\"T_b521f_row8_col4\" class=\"data row8 col4\" >-0.003086</td>\n",
       "      <td id=\"T_b521f_row8_col5\" class=\"data row8 col5\" >-0.002506</td>\n",
       "      <td id=\"T_b521f_row8_col6\" class=\"data row8 col6\" >-0.001318</td>\n",
       "      <td id=\"T_b521f_row8_col7\" class=\"data row8 col7\" >0.000685</td>\n",
       "      <td id=\"T_b521f_row8_col8\" class=\"data row8 col8\" >1.000000</td>\n",
       "    </tr>\n",
       "  </tbody>\n",
       "</table>\n"
      ],
      "text/plain": [
       "<pandas.io.formats.style.Styler at 0x236322886a0>"
      ]
     },
     "metadata": {},
     "output_type": "display_data"
    },
    {
     "data": {
      "text/html": [
       "<style type=\"text/css\">\n",
       "#T_cca06_row0_col0, #T_cca06_row4_col0, #T_cca06_row5_col0, #T_cca06_row6_col0, #T_cca06_row7_col0, #T_cca06_row8_col0 {\n",
       "  color: white;\n",
       "}\n",
       "#T_cca06_row1_col0, #T_cca06_row2_col0, #T_cca06_row3_col0 {\n",
       "  color: yellow;\n",
       "}\n",
       "</style>\n",
       "<table id=\"T_cca06\">\n",
       "  <thead>\n",
       "    <tr>\n",
       "      <th class=\"blank level0\" >&nbsp;</th>\n",
       "      <th id=\"T_cca06_level0_col0\" class=\"col_heading level0 col0\" >VIF</th>\n",
       "    </tr>\n",
       "  </thead>\n",
       "  <tbody>\n",
       "    <tr>\n",
       "      <th id=\"T_cca06_level0_row0\" class=\"row_heading level0 row0\" >satisfaction_level</th>\n",
       "      <td id=\"T_cca06_row0_col0\" class=\"data row0 col0\" >6.466087</td>\n",
       "    </tr>\n",
       "    <tr>\n",
       "      <th id=\"T_cca06_level0_row1\" class=\"row_heading level0 row1\" >last_evaluation</th>\n",
       "      <td id=\"T_cca06_row1_col0\" class=\"data row1 col0\" >20.621566</td>\n",
       "    </tr>\n",
       "    <tr>\n",
       "      <th id=\"T_cca06_level0_row2\" class=\"row_heading level0 row2\" >number_project</th>\n",
       "      <td id=\"T_cca06_row2_col0\" class=\"data row2 col0\" >13.901185</td>\n",
       "    </tr>\n",
       "    <tr>\n",
       "      <th id=\"T_cca06_level0_row3\" class=\"row_heading level0 row3\" >average_montly_hours</th>\n",
       "      <td id=\"T_cca06_row3_col0\" class=\"data row3 col0\" >19.507480</td>\n",
       "    </tr>\n",
       "    <tr>\n",
       "      <th id=\"T_cca06_level0_row4\" class=\"row_heading level0 row4\" >time_spend_company</th>\n",
       "      <td id=\"T_cca06_row4_col0\" class=\"data row4 col0\" >6.639859</td>\n",
       "    </tr>\n",
       "    <tr>\n",
       "      <th id=\"T_cca06_level0_row5\" class=\"row_heading level0 row5\" >Work_accident</th>\n",
       "      <td id=\"T_cca06_row5_col0\" class=\"data row5 col0\" >1.172840</td>\n",
       "    </tr>\n",
       "    <tr>\n",
       "      <th id=\"T_cca06_level0_row6\" class=\"row_heading level0 row6\" >promotion_last_5years</th>\n",
       "      <td id=\"T_cca06_row6_col0\" class=\"data row6 col0\" >1.030144</td>\n",
       "    </tr>\n",
       "    <tr>\n",
       "      <th id=\"T_cca06_level0_row7\" class=\"row_heading level0 row7\" >Department</th>\n",
       "      <td id=\"T_cca06_row7_col0\" class=\"data row7 col0\" >4.709552</td>\n",
       "    </tr>\n",
       "    <tr>\n",
       "      <th id=\"T_cca06_level0_row8\" class=\"row_heading level0 row8\" >salary</th>\n",
       "      <td id=\"T_cca06_row8_col0\" class=\"data row8 col0\" >5.092658</td>\n",
       "    </tr>\n",
       "  </tbody>\n",
       "</table>\n"
      ],
      "text/plain": [
       "<pandas.io.formats.style.Styler at 0x236340bcca0>"
      ]
     },
     "execution_count": 71,
     "metadata": {},
     "output_type": "execute_result"
    }
   ],
   "source": [
    "display(x.corr().style.applymap(lambda x : 'color: red' if x > 0.5 else 'color: white'))\n",
    "VIF = pd.DataFrame(columns=['VIF'],index = x.columns)\n",
    "VIF['VIF'] = [variance_inflation_factor(x.values,i) for i in range(len(x.columns))]\n",
    "VIF.style.applymap(lambda x : 'color : yellow' if x >= 10 else 'color : white')"
   ]
  },
  {
   "cell_type": "code",
   "execution_count": 24,
   "id": "3b86cf3e",
   "metadata": {},
   "outputs": [
    {
     "name": "stdout",
     "output_type": "stream",
     "text": [
      "[(7, 'sales'), (2, 'accounting'), (3, 'hr'), (9, 'technical'), (8, 'support'), (4, 'management'), (0, 'IT'), (6, 'product_mng'), (5, 'marketing'), (1, 'RandD')]\n",
      "[(1, 'low'), (2, 'medium'), (0, 'high')]\n"
     ]
    },
    {
     "name": "stderr",
     "output_type": "stream",
     "text": [
      "C:\\Users\\202204~1\\AppData\\Local\\Temp/ipykernel_5912/1134096877.py:1: SettingWithCopyWarning: \n",
      "A value is trying to be set on a copy of a slice from a DataFrame.\n",
      "Try using .loc[row_indexer,col_indexer] = value instead\n",
      "\n",
      "See the caveats in the documentation: https://pandas.pydata.org/pandas-docs/stable/user_guide/indexing.html#returning-a-view-versus-a-copy\n",
      "  x['Department'] = LE.fit_transform(x['Department'])\n",
      "C:\\Users\\202204~1\\AppData\\Local\\Temp/ipykernel_5912/1134096877.py:3: SettingWithCopyWarning: \n",
      "A value is trying to be set on a copy of a slice from a DataFrame.\n",
      "Try using .loc[row_indexer,col_indexer] = value instead\n",
      "\n",
      "See the caveats in the documentation: https://pandas.pydata.org/pandas-docs/stable/user_guide/indexing.html#returning-a-view-versus-a-copy\n",
      "  x['salary'] = LE.fit_transform(x['salary'])\n"
     ]
    }
   ],
   "source": [
    "x['Department'] = LE.fit_transform(x['Department'])\n",
    "print(list(zip(x['Department'].unique(),df['Department'].unique())))\n",
    "x['salary'] = LE.fit_transform(x['salary'])\n",
    "print(list(zip(x['salary'].unique(),df['salary'].unique())))"
   ]
  },
  {
   "cell_type": "code",
   "execution_count": 25,
   "id": "fbd6f272",
   "metadata": {},
   "outputs": [],
   "source": [
    "sc = StandardScaler()\n",
    "std_x = x.copy()\n",
    "std_x.loc[:,~std_x.columns.isin(['salary','Department','promotion_last_5years','Work_accident'])] = sc.fit_transform(std_x.loc[:,~std_x.columns.isin(['salary','Department','promotion_last_5years','Work_accident'])])"
   ]
  },
  {
   "cell_type": "code",
   "execution_count": 72,
   "id": "e9b85b56",
   "metadata": {},
   "outputs": [
    {
     "data": {
      "text/html": [
       "<style type=\"text/css\">\n",
       "#T_656d2_row0_col0, #T_656d2_row1_col1, #T_656d2_row2_col2, #T_656d2_row3_col3, #T_656d2_row4_col4, #T_656d2_row5_col5, #T_656d2_row6_col6, #T_656d2_row7_col7, #T_656d2_row8_col8 {\n",
       "  color: red;\n",
       "}\n",
       "#T_656d2_row0_col1, #T_656d2_row0_col2, #T_656d2_row0_col3, #T_656d2_row0_col4, #T_656d2_row0_col5, #T_656d2_row0_col6, #T_656d2_row0_col7, #T_656d2_row0_col8, #T_656d2_row1_col0, #T_656d2_row1_col2, #T_656d2_row1_col3, #T_656d2_row1_col4, #T_656d2_row1_col5, #T_656d2_row1_col6, #T_656d2_row1_col7, #T_656d2_row1_col8, #T_656d2_row2_col0, #T_656d2_row2_col1, #T_656d2_row2_col3, #T_656d2_row2_col4, #T_656d2_row2_col5, #T_656d2_row2_col6, #T_656d2_row2_col7, #T_656d2_row2_col8, #T_656d2_row3_col0, #T_656d2_row3_col1, #T_656d2_row3_col2, #T_656d2_row3_col4, #T_656d2_row3_col5, #T_656d2_row3_col6, #T_656d2_row3_col7, #T_656d2_row3_col8, #T_656d2_row4_col0, #T_656d2_row4_col1, #T_656d2_row4_col2, #T_656d2_row4_col3, #T_656d2_row4_col5, #T_656d2_row4_col6, #T_656d2_row4_col7, #T_656d2_row4_col8, #T_656d2_row5_col0, #T_656d2_row5_col1, #T_656d2_row5_col2, #T_656d2_row5_col3, #T_656d2_row5_col4, #T_656d2_row5_col6, #T_656d2_row5_col7, #T_656d2_row5_col8, #T_656d2_row6_col0, #T_656d2_row6_col1, #T_656d2_row6_col2, #T_656d2_row6_col3, #T_656d2_row6_col4, #T_656d2_row6_col5, #T_656d2_row6_col7, #T_656d2_row6_col8, #T_656d2_row7_col0, #T_656d2_row7_col1, #T_656d2_row7_col2, #T_656d2_row7_col3, #T_656d2_row7_col4, #T_656d2_row7_col5, #T_656d2_row7_col6, #T_656d2_row7_col8, #T_656d2_row8_col0, #T_656d2_row8_col1, #T_656d2_row8_col2, #T_656d2_row8_col3, #T_656d2_row8_col4, #T_656d2_row8_col5, #T_656d2_row8_col6, #T_656d2_row8_col7 {\n",
       "  color: white;\n",
       "}\n",
       "</style>\n",
       "<table id=\"T_656d2\">\n",
       "  <thead>\n",
       "    <tr>\n",
       "      <th class=\"blank level0\" >&nbsp;</th>\n",
       "      <th id=\"T_656d2_level0_col0\" class=\"col_heading level0 col0\" >satisfaction_level</th>\n",
       "      <th id=\"T_656d2_level0_col1\" class=\"col_heading level0 col1\" >last_evaluation</th>\n",
       "      <th id=\"T_656d2_level0_col2\" class=\"col_heading level0 col2\" >number_project</th>\n",
       "      <th id=\"T_656d2_level0_col3\" class=\"col_heading level0 col3\" >average_montly_hours</th>\n",
       "      <th id=\"T_656d2_level0_col4\" class=\"col_heading level0 col4\" >time_spend_company</th>\n",
       "      <th id=\"T_656d2_level0_col5\" class=\"col_heading level0 col5\" >Work_accident</th>\n",
       "      <th id=\"T_656d2_level0_col6\" class=\"col_heading level0 col6\" >promotion_last_5years</th>\n",
       "      <th id=\"T_656d2_level0_col7\" class=\"col_heading level0 col7\" >Department</th>\n",
       "      <th id=\"T_656d2_level0_col8\" class=\"col_heading level0 col8\" >salary</th>\n",
       "    </tr>\n",
       "  </thead>\n",
       "  <tbody>\n",
       "    <tr>\n",
       "      <th id=\"T_656d2_level0_row0\" class=\"row_heading level0 row0\" >satisfaction_level</th>\n",
       "      <td id=\"T_656d2_row0_col0\" class=\"data row0 col0\" >1.000000</td>\n",
       "      <td id=\"T_656d2_row0_col1\" class=\"data row0 col1\" >0.105021</td>\n",
       "      <td id=\"T_656d2_row0_col2\" class=\"data row0 col2\" >-0.142970</td>\n",
       "      <td id=\"T_656d2_row0_col3\" class=\"data row0 col3\" >-0.020048</td>\n",
       "      <td id=\"T_656d2_row0_col4\" class=\"data row0 col4\" >-0.100866</td>\n",
       "      <td id=\"T_656d2_row0_col5\" class=\"data row0 col5\" >0.058697</td>\n",
       "      <td id=\"T_656d2_row0_col6\" class=\"data row0 col6\" >0.025605</td>\n",
       "      <td id=\"T_656d2_row0_col7\" class=\"data row0 col7\" >0.003153</td>\n",
       "      <td id=\"T_656d2_row0_col8\" class=\"data row0 col8\" >0.011754</td>\n",
       "    </tr>\n",
       "    <tr>\n",
       "      <th id=\"T_656d2_level0_row1\" class=\"row_heading level0 row1\" >last_evaluation</th>\n",
       "      <td id=\"T_656d2_row1_col0\" class=\"data row1 col0\" >0.105021</td>\n",
       "      <td id=\"T_656d2_row1_col1\" class=\"data row1 col1\" >1.000000</td>\n",
       "      <td id=\"T_656d2_row1_col2\" class=\"data row1 col2\" >0.349333</td>\n",
       "      <td id=\"T_656d2_row1_col3\" class=\"data row1 col3\" >0.339742</td>\n",
       "      <td id=\"T_656d2_row1_col4\" class=\"data row1 col4\" >0.131591</td>\n",
       "      <td id=\"T_656d2_row1_col5\" class=\"data row1 col5\" >-0.007104</td>\n",
       "      <td id=\"T_656d2_row1_col6\" class=\"data row1 col6\" >-0.008684</td>\n",
       "      <td id=\"T_656d2_row1_col7\" class=\"data row1 col7\" >0.007772</td>\n",
       "      <td id=\"T_656d2_row1_col8\" class=\"data row1 col8\" >0.013965</td>\n",
       "    </tr>\n",
       "    <tr>\n",
       "      <th id=\"T_656d2_level0_row2\" class=\"row_heading level0 row2\" >number_project</th>\n",
       "      <td id=\"T_656d2_row2_col0\" class=\"data row2 col0\" >-0.142970</td>\n",
       "      <td id=\"T_656d2_row2_col1\" class=\"data row2 col1\" >0.349333</td>\n",
       "      <td id=\"T_656d2_row2_col2\" class=\"data row2 col2\" >1.000000</td>\n",
       "      <td id=\"T_656d2_row2_col3\" class=\"data row2 col3\" >0.417211</td>\n",
       "      <td id=\"T_656d2_row2_col4\" class=\"data row2 col4\" >0.196786</td>\n",
       "      <td id=\"T_656d2_row2_col5\" class=\"data row2 col5\" >-0.004741</td>\n",
       "      <td id=\"T_656d2_row2_col6\" class=\"data row2 col6\" >-0.006064</td>\n",
       "      <td id=\"T_656d2_row2_col7\" class=\"data row2 col7\" >0.009268</td>\n",
       "      <td id=\"T_656d2_row2_col8\" class=\"data row2 col8\" >0.009672</td>\n",
       "    </tr>\n",
       "    <tr>\n",
       "      <th id=\"T_656d2_level0_row3\" class=\"row_heading level0 row3\" >average_montly_hours</th>\n",
       "      <td id=\"T_656d2_row3_col0\" class=\"data row3 col0\" >-0.020048</td>\n",
       "      <td id=\"T_656d2_row3_col1\" class=\"data row3 col1\" >0.339742</td>\n",
       "      <td id=\"T_656d2_row3_col2\" class=\"data row3 col2\" >0.417211</td>\n",
       "      <td id=\"T_656d2_row3_col3\" class=\"data row3 col3\" >1.000000</td>\n",
       "      <td id=\"T_656d2_row3_col4\" class=\"data row3 col4\" >0.127755</td>\n",
       "      <td id=\"T_656d2_row3_col5\" class=\"data row3 col5\" >-0.010143</td>\n",
       "      <td id=\"T_656d2_row3_col6\" class=\"data row3 col6\" >-0.003544</td>\n",
       "      <td id=\"T_656d2_row3_col7\" class=\"data row3 col7\" >0.003913</td>\n",
       "      <td id=\"T_656d2_row3_col8\" class=\"data row3 col8\" >0.007082</td>\n",
       "    </tr>\n",
       "    <tr>\n",
       "      <th id=\"T_656d2_level0_row4\" class=\"row_heading level0 row4\" >time_spend_company</th>\n",
       "      <td id=\"T_656d2_row4_col0\" class=\"data row4 col0\" >-0.100866</td>\n",
       "      <td id=\"T_656d2_row4_col1\" class=\"data row4 col1\" >0.131591</td>\n",
       "      <td id=\"T_656d2_row4_col2\" class=\"data row4 col2\" >0.196786</td>\n",
       "      <td id=\"T_656d2_row4_col3\" class=\"data row4 col3\" >0.127755</td>\n",
       "      <td id=\"T_656d2_row4_col4\" class=\"data row4 col4\" >1.000000</td>\n",
       "      <td id=\"T_656d2_row4_col5\" class=\"data row4 col5\" >0.002120</td>\n",
       "      <td id=\"T_656d2_row4_col6\" class=\"data row4 col6\" >0.067433</td>\n",
       "      <td id=\"T_656d2_row4_col7\" class=\"data row4 col7\" >-0.018010</td>\n",
       "      <td id=\"T_656d2_row4_col8\" class=\"data row4 col8\" >-0.003086</td>\n",
       "    </tr>\n",
       "    <tr>\n",
       "      <th id=\"T_656d2_level0_row5\" class=\"row_heading level0 row5\" >Work_accident</th>\n",
       "      <td id=\"T_656d2_row5_col0\" class=\"data row5 col0\" >0.058697</td>\n",
       "      <td id=\"T_656d2_row5_col1\" class=\"data row5 col1\" >-0.007104</td>\n",
       "      <td id=\"T_656d2_row5_col2\" class=\"data row5 col2\" >-0.004741</td>\n",
       "      <td id=\"T_656d2_row5_col3\" class=\"data row5 col3\" >-0.010143</td>\n",
       "      <td id=\"T_656d2_row5_col4\" class=\"data row5 col4\" >0.002120</td>\n",
       "      <td id=\"T_656d2_row5_col5\" class=\"data row5 col5\" >1.000000</td>\n",
       "      <td id=\"T_656d2_row5_col6\" class=\"data row5 col6\" >0.039245</td>\n",
       "      <td id=\"T_656d2_row5_col7\" class=\"data row5 col7\" >0.003425</td>\n",
       "      <td id=\"T_656d2_row5_col8\" class=\"data row5 col8\" >-0.002506</td>\n",
       "    </tr>\n",
       "    <tr>\n",
       "      <th id=\"T_656d2_level0_row6\" class=\"row_heading level0 row6\" >promotion_last_5years</th>\n",
       "      <td id=\"T_656d2_row6_col0\" class=\"data row6 col0\" >0.025605</td>\n",
       "      <td id=\"T_656d2_row6_col1\" class=\"data row6 col1\" >-0.008684</td>\n",
       "      <td id=\"T_656d2_row6_col2\" class=\"data row6 col2\" >-0.006064</td>\n",
       "      <td id=\"T_656d2_row6_col3\" class=\"data row6 col3\" >-0.003544</td>\n",
       "      <td id=\"T_656d2_row6_col4\" class=\"data row6 col4\" >0.067433</td>\n",
       "      <td id=\"T_656d2_row6_col5\" class=\"data row6 col5\" >0.039245</td>\n",
       "      <td id=\"T_656d2_row6_col6\" class=\"data row6 col6\" >1.000000</td>\n",
       "      <td id=\"T_656d2_row6_col7\" class=\"data row6 col7\" >-0.027336</td>\n",
       "      <td id=\"T_656d2_row6_col8\" class=\"data row6 col8\" >-0.001318</td>\n",
       "    </tr>\n",
       "    <tr>\n",
       "      <th id=\"T_656d2_level0_row7\" class=\"row_heading level0 row7\" >Department</th>\n",
       "      <td id=\"T_656d2_row7_col0\" class=\"data row7 col0\" >0.003153</td>\n",
       "      <td id=\"T_656d2_row7_col1\" class=\"data row7 col1\" >0.007772</td>\n",
       "      <td id=\"T_656d2_row7_col2\" class=\"data row7 col2\" >0.009268</td>\n",
       "      <td id=\"T_656d2_row7_col3\" class=\"data row7 col3\" >0.003913</td>\n",
       "      <td id=\"T_656d2_row7_col4\" class=\"data row7 col4\" >-0.018010</td>\n",
       "      <td id=\"T_656d2_row7_col5\" class=\"data row7 col5\" >0.003425</td>\n",
       "      <td id=\"T_656d2_row7_col6\" class=\"data row7 col6\" >-0.027336</td>\n",
       "      <td id=\"T_656d2_row7_col7\" class=\"data row7 col7\" >1.000000</td>\n",
       "      <td id=\"T_656d2_row7_col8\" class=\"data row7 col8\" >0.000685</td>\n",
       "    </tr>\n",
       "    <tr>\n",
       "      <th id=\"T_656d2_level0_row8\" class=\"row_heading level0 row8\" >salary</th>\n",
       "      <td id=\"T_656d2_row8_col0\" class=\"data row8 col0\" >0.011754</td>\n",
       "      <td id=\"T_656d2_row8_col1\" class=\"data row8 col1\" >0.013965</td>\n",
       "      <td id=\"T_656d2_row8_col2\" class=\"data row8 col2\" >0.009672</td>\n",
       "      <td id=\"T_656d2_row8_col3\" class=\"data row8 col3\" >0.007082</td>\n",
       "      <td id=\"T_656d2_row8_col4\" class=\"data row8 col4\" >-0.003086</td>\n",
       "      <td id=\"T_656d2_row8_col5\" class=\"data row8 col5\" >-0.002506</td>\n",
       "      <td id=\"T_656d2_row8_col6\" class=\"data row8 col6\" >-0.001318</td>\n",
       "      <td id=\"T_656d2_row8_col7\" class=\"data row8 col7\" >0.000685</td>\n",
       "      <td id=\"T_656d2_row8_col8\" class=\"data row8 col8\" >1.000000</td>\n",
       "    </tr>\n",
       "  </tbody>\n",
       "</table>\n"
      ],
      "text/plain": [
       "<pandas.io.formats.style.Styler at 0x236321f6940>"
      ]
     },
     "metadata": {},
     "output_type": "display_data"
    },
    {
     "data": {
      "text/html": [
       "<style type=\"text/css\">\n",
       "#T_96f7f_row0_col0, #T_96f7f_row1_col0, #T_96f7f_row2_col0, #T_96f7f_row3_col0, #T_96f7f_row4_col0, #T_96f7f_row5_col0, #T_96f7f_row6_col0, #T_96f7f_row7_col0, #T_96f7f_row8_col0 {\n",
       "  color: white;\n",
       "}\n",
       "</style>\n",
       "<table id=\"T_96f7f\">\n",
       "  <thead>\n",
       "    <tr>\n",
       "      <th class=\"blank level0\" >&nbsp;</th>\n",
       "      <th id=\"T_96f7f_level0_col0\" class=\"col_heading level0 col0\" >VIF</th>\n",
       "    </tr>\n",
       "  </thead>\n",
       "  <tbody>\n",
       "    <tr>\n",
       "      <th id=\"T_96f7f_level0_row0\" class=\"row_heading level0 row0\" >satisfaction_level</th>\n",
       "      <td id=\"T_96f7f_row0_col0\" class=\"data row0 col0\" >1.063188</td>\n",
       "    </tr>\n",
       "    <tr>\n",
       "      <th id=\"T_96f7f_level0_row1\" class=\"row_heading level0 row1\" >last_evaluation</th>\n",
       "      <td id=\"T_96f7f_row1_col0\" class=\"data row1 col0\" >1.240573</td>\n",
       "    </tr>\n",
       "    <tr>\n",
       "      <th id=\"T_96f7f_level0_row2\" class=\"row_heading level0 row2\" >number_project</th>\n",
       "      <td id=\"T_96f7f_row2_col0\" class=\"data row2 col0\" >1.352433</td>\n",
       "    </tr>\n",
       "    <tr>\n",
       "      <th id=\"T_96f7f_level0_row3\" class=\"row_heading level0 row3\" >average_montly_hours</th>\n",
       "      <td id=\"T_96f7f_row3_col0\" class=\"data row3 col0\" >1.278963</td>\n",
       "    </tr>\n",
       "    <tr>\n",
       "      <th id=\"T_96f7f_level0_row4\" class=\"row_heading level0 row4\" >time_spend_company</th>\n",
       "      <td id=\"T_96f7f_row4_col0\" class=\"data row4 col0\" >1.060777</td>\n",
       "    </tr>\n",
       "    <tr>\n",
       "      <th id=\"T_96f7f_level0_row5\" class=\"row_heading level0 row5\" >Work_accident</th>\n",
       "      <td id=\"T_96f7f_row5_col0\" class=\"data row5 col0\" >1.156095</td>\n",
       "    </tr>\n",
       "    <tr>\n",
       "      <th id=\"T_96f7f_level0_row6\" class=\"row_heading level0 row6\" >promotion_last_5years</th>\n",
       "      <td id=\"T_96f7f_row6_col0\" class=\"data row6 col0\" >1.026542</td>\n",
       "    </tr>\n",
       "    <tr>\n",
       "      <th id=\"T_96f7f_level0_row7\" class=\"row_heading level0 row7\" >Department</th>\n",
       "      <td id=\"T_96f7f_row7_col0\" class=\"data row7 col0\" >3.019809</td>\n",
       "    </tr>\n",
       "    <tr>\n",
       "      <th id=\"T_96f7f_level0_row8\" class=\"row_heading level0 row8\" >salary</th>\n",
       "      <td id=\"T_96f7f_row8_col0\" class=\"data row8 col0\" >3.029188</td>\n",
       "    </tr>\n",
       "  </tbody>\n",
       "</table>\n"
      ],
      "text/plain": [
       "<pandas.io.formats.style.Styler at 0x236322624f0>"
      ]
     },
     "execution_count": 72,
     "metadata": {},
     "output_type": "execute_result"
    }
   ],
   "source": [
    "display(std_x.corr().style.applymap(lambda x: 'color : red' if x >0.7 else 'color : white'))\n",
    "VIF2 = pd.DataFrame(columns=['VIF'],index = std_x.columns)\n",
    "VIF2['VIF'] = [variance_inflation_factor(std_x.values,i) for i in range(len(std_x.columns))]\n",
    "VIF2.style.applymap(lambda x : 'color : yellow' if x >= 10 else 'color : white')"
   ]
  },
  {
   "cell_type": "code",
   "execution_count": 80,
   "id": "4b2beaf7",
   "metadata": {},
   "outputs": [],
   "source": [
    "train_x , test_x , train_y , test_y = train_test_split(std_x,y,test_size=0.2,random_state=42)"
   ]
  },
  {
   "cell_type": "code",
   "execution_count": 81,
   "id": "7e344f85",
   "metadata": {},
   "outputs": [],
   "source": [
    "model3 = LogisticRegression()"
   ]
  },
  {
   "cell_type": "code",
   "execution_count": 82,
   "id": "f360cb97",
   "metadata": {},
   "outputs": [
    {
     "name": "stderr",
     "output_type": "stream",
     "text": [
      "C:\\Users\\2022040601\\Anaconda3\\lib\\site-packages\\sklearn\\utils\\validation.py:63: DataConversionWarning: A column-vector y was passed when a 1d array was expected. Please change the shape of y to (n_samples, ), for example using ravel().\n",
      "  return f(*args, **kwargs)\n"
     ]
    },
    {
     "data": {
      "text/plain": [
       "0.7576666666666667"
      ]
     },
     "execution_count": 82,
     "metadata": {},
     "output_type": "execute_result"
    }
   ],
   "source": [
    "model3.fit(train_x,train_y)\n",
    "model3.score(test_x,test_y)"
   ]
  },
  {
   "cell_type": "code",
   "execution_count": 83,
   "id": "9d5a9aa3",
   "metadata": {},
   "outputs": [
    {
     "data": {
      "text/plain": [
       "array([[2113,  546],\n",
       "       [ 181,  160]], dtype=int64)"
      ]
     },
     "execution_count": 83,
     "metadata": {},
     "output_type": "execute_result"
    }
   ],
   "source": [
    "cm = confusion_matrix(model3.predict(test_x),test_y)\n",
    "cm"
   ]
  },
  {
   "cell_type": "code",
   "execution_count": null,
   "id": "3baa94f8",
   "metadata": {},
   "outputs": [],
   "source": []
  },
  {
   "cell_type": "code",
   "execution_count": null,
   "id": "d27c446b",
   "metadata": {},
   "outputs": [],
   "source": []
  },
  {
   "cell_type": "code",
   "execution_count": null,
   "id": "6654eb68",
   "metadata": {},
   "outputs": [],
   "source": []
  },
  {
   "cell_type": "code",
   "execution_count": null,
   "id": "d30ca28b",
   "metadata": {},
   "outputs": [],
   "source": []
  }
 ],
 "metadata": {
  "kernelspec": {
   "display_name": "Python 3 (ipykernel)",
   "language": "python",
   "name": "python3"
  },
  "language_info": {
   "codemirror_mode": {
    "name": "ipython",
    "version": 3
   },
   "file_extension": ".py",
   "mimetype": "text/x-python",
   "name": "python",
   "nbconvert_exporter": "python",
   "pygments_lexer": "ipython3",
   "version": "3.9.13"
  },
  "toc": {
   "base_numbering": 1,
   "nav_menu": {},
   "number_sections": true,
   "sideBar": true,
   "skip_h1_title": false,
   "title_cell": "Table of Contents",
   "title_sidebar": "Contents",
   "toc_cell": false,
   "toc_position": {},
   "toc_section_display": true,
   "toc_window_display": false
  }
 },
 "nbformat": 4,
 "nbformat_minor": 5
}
